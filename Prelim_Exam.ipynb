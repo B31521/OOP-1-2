{
  "nbformat": 4,
  "nbformat_minor": 0,
  "metadata": {
    "colab": {
      "name": "Prelim Exam",
      "provenance": [],
      "authorship_tag": "ABX9TyO1capt5jicfZdWUiho0iYN",
      "include_colab_link": true
    },
    "kernelspec": {
      "name": "python3",
      "display_name": "Python 3"
    },
    "language_info": {
      "name": "python"
    }
  },
  "cells": [
    {
      "cell_type": "markdown",
      "metadata": {
        "id": "view-in-github",
        "colab_type": "text"
      },
      "source": [
        "<a href=\"https://colab.research.google.com/github/B31521/OOP-1-2/blob/main/Prelim_Exam.ipynb\" target=\"_parent\"><img src=\"https://colab.research.google.com/assets/colab-badge.svg\" alt=\"Open In Colab\"/></a>"
      ]
    },
    {
      "cell_type": "code",
      "execution_count": 14,
      "metadata": {
        "id": "EeIwK_-0V5tQ",
        "colab": {
          "base_uri": "https://localhost:8080/"
        },
        "outputId": "97ed0fd3-204a-4dd7-f982-84724341dfd7"
      },
      "outputs": [
        {
          "output_type": "stream",
          "name": "stdout",
          "text": [
            "My name is Billy Gilson R. Pulido\n",
            "I am of 19 years of age\n",
            "I attend Cavite State University - Main Campus\n",
            "My student number is 202102004\n",
            "I am currently taking up the course of Bachelor of Science in Computer Engineering\n"
          ]
        }
      ],
      "source": [
        "class Student:\n",
        "  def __init__(self,Name,Student_Number,Age,School,Course):\n",
        "    self.name=Name\n",
        "    self.sn=Student_Number\n",
        "    self.age=Age\n",
        "    self.school=School\n",
        "    self.course=Course\n",
        "\n",
        "  def Myself(self):\n",
        "    print(\"My name is\",self.name)\n",
        "    print(\"I am of\", self.age,\"years of age\")\n",
        "    print(\"I attend\",self.school)\n",
        "    print(\"My student number is\",self.sn)\n",
        "    print(\"I am currently taking up the course of\",self.course)\n",
        "\n",
        "Info=Student(\"Billy Gilson R. Pulido\",202102004,19,\"Cavite State University - Main Campus\",\"Bachelor of Science in Computer Engineering\")\n",
        "Info.Myself()"
      ]
    }
  ]
}