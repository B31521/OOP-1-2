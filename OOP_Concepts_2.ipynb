{
  "nbformat": 4,
  "nbformat_minor": 0,
  "metadata": {
    "colab": {
      "name": "OOP Concepts 2.ipynb",
      "provenance": [],
      "authorship_tag": "ABX9TyNIrm7+bs6CBpGaX+dljuKb",
      "include_colab_link": true
    },
    "kernelspec": {
      "name": "python3",
      "display_name": "Python 3"
    },
    "language_info": {
      "name": "python"
    }
  },
  "cells": [
    {
      "cell_type": "markdown",
      "metadata": {
        "id": "view-in-github",
        "colab_type": "text"
      },
      "source": [
        "<a href=\"https://colab.research.google.com/github/B31521/OOP-1-2/blob/main/OOP_Concepts_2.ipynb\" target=\"_parent\"><img src=\"https://colab.research.google.com/assets/colab-badge.svg\" alt=\"Open In Colab\"/></a>"
      ]
    },
    {
      "cell_type": "markdown",
      "source": [
        "Classes with multiple objects"
      ],
      "metadata": {
        "id": "7kEXdaV6VTMx"
      }
    },
    {
      "cell_type": "code",
      "execution_count": null,
      "metadata": {
        "colab": {
          "base_uri": "https://localhost:8080/"
        },
        "id": "iXb7QvgBVOUQ",
        "outputId": "ec05bb0d-2ac7-4f0a-ade0-8ced4e8282a9"
      },
      "outputs": [
        {
          "output_type": "stream",
          "name": "stdout",
          "text": [
            "Griffon Vulture flies above the sky\n",
            "Common Crane flies above the sky\n",
            "Emu is the national bird of the Philippines\n"
          ]
        }
      ],
      "source": [
        "class Birds:\n",
        "  def __init__(self,bird_name):\n",
        "    self.bird_name=bird_name\n",
        "\n",
        "  def flying_birds(self):\n",
        "    print(f\"{self.bird_name} flies above the sky\")\n",
        "\n",
        "  def non_flying_birds(self):\n",
        "    print(f\"{self.bird_name} is the national bird of the Philippines\")\n",
        "\n",
        "vulture=Birds(\"Griffon Vulture\")\n",
        "crane=Birds(\"Common Crane\")\n",
        "emu=Birds(\"Emu\")\n",
        "\n",
        "vulture.flying_birds()\n",
        "crane.flying_birds()\n",
        "emu.non_flying_birds()"
      ]
    },
    {
      "cell_type": "markdown",
      "source": [
        "Encapsulation"
      ],
      "metadata": {
        "id": "2aHj9o3CYsQr"
      }
    },
    {
      "cell_type": "code",
      "source": [
        "class foo:\n",
        "  def __init__(self,a,b):\n",
        "    self.__a=a\n",
        "    self.__b=b\n",
        "    \n",
        "  def add(self):\n",
        "    return self.__a + self.__b #Private Attributes\n",
        "\n",
        "number=foo(3,4)\n",
        "number.add()\n",
        "\n",
        "number.a=7 #7, 4 7+4=11\n",
        "number.add()"
      ],
      "metadata": {
        "colab": {
          "base_uri": "https://localhost:8080/"
        },
        "id": "TIdYsCLEXUyx",
        "outputId": "018d2a1e-f0c7-4bde-b65e-2872f8ed9f0d"
      },
      "execution_count": null,
      "outputs": [
        {
          "output_type": "execute_result",
          "data": {
            "text/plain": [
              "7"
            ]
          },
          "metadata": {},
          "execution_count": 6
        }
      ]
    },
    {
      "cell_type": "markdown",
      "source": [
        "Encapsulation with Private Attributes"
      ],
      "metadata": {
        "id": "3g7UWF8YZhSX"
      }
    },
    {
      "cell_type": "code",
      "source": [
        "class Counter:\n",
        "  def __init__(self):\n",
        "    self.__current=0\n",
        "\n",
        "  def increment(self):\n",
        "    self.__current +=1\n",
        "  def value(self):\n",
        "    return self.__current\n",
        "  def reset(self):\n",
        "    self.__current=0\n",
        "\n",
        "num=Counter()\n",
        "num.increment() #counter=counter+1\n",
        "num.increment()\n",
        "num.increment()\n",
        "\n",
        "num.counter=1\n",
        "\n",
        "num.value()"
      ],
      "metadata": {
        "colab": {
          "base_uri": "https://localhost:8080/"
        },
        "id": "SaLJGuCCZobr",
        "outputId": "694d7521-a4f0-4907-c54a-3f5a5c4f913a"
      },
      "execution_count": null,
      "outputs": [
        {
          "output_type": "execute_result",
          "data": {
            "text/plain": [
              "3"
            ]
          },
          "metadata": {},
          "execution_count": 12
        }
      ]
    },
    {
      "cell_type": "markdown",
      "source": [
        "Inheritance"
      ],
      "metadata": {
        "id": "osQOBf34dIYw"
      }
    },
    {
      "cell_type": "code",
      "source": [
        "class Person:\n",
        "  def __init__(self,firstname,surname):\n",
        "    self.firstname=firstname\n",
        "    self.surname=surname\n",
        "\n",
        "  def printname(self):\n",
        "    print(self.firstname,self.surname)\n",
        "\n",
        "person=Person(\"Ana\",\"Santos\")\n",
        "person.printname()\n",
        "\n",
        "class Teacher(Person):\n",
        "  pass\n",
        "\n",
        "person2=Teacher(\"Maria\",\"Sayo\")\n",
        "person2.printname()\n",
        "\n",
        "class Student(Teacher):\n",
        "  pass\n",
        "\n",
        "person3=Student(\"Billy\",\"Pulido\")\n",
        "person3.printname()"
      ],
      "metadata": {
        "colab": {
          "base_uri": "https://localhost:8080/"
        },
        "id": "aGxSRdarat7N",
        "outputId": "efcc6513-a7b5-4293-93b2-52125c1af751"
      },
      "execution_count": null,
      "outputs": [
        {
          "output_type": "stream",
          "name": "stdout",
          "text": [
            "Ana Santos\n",
            "Maria Sayo\n",
            "Billy Pulido\n"
          ]
        }
      ]
    },
    {
      "cell_type": "markdown",
      "source": [
        "Polymorphism"
      ],
      "metadata": {
        "id": "NVX7-uJnfKLF"
      }
    },
    {
      "cell_type": "code",
      "source": [
        "class RegularPolygon:\n",
        "  def __init__(self,side):\n",
        "    self.side=side\n",
        "class Square(RegularPolygon):\n",
        "  def area(self):\n",
        "    return self.side*self.side\n",
        "class EquilateralTriangle(Square):\n",
        "  def area(self):\n",
        "    return self.side*self.side*0.433\n",
        "\n",
        "object=Square(4)\n",
        "print(object.area())\n",
        "\n",
        "object2=EquilateralTriangle(3)\n",
        "print(object2.area())\n"
      ],
      "metadata": {
        "colab": {
          "base_uri": "https://localhost:8080/"
        },
        "id": "pXEGU2WvfLoL",
        "outputId": "c62ee9e6-ef71-4e05-df79-210e56020f08"
      },
      "execution_count": null,
      "outputs": [
        {
          "output_type": "stream",
          "name": "stdout",
          "text": [
            "16\n",
            "3.897\n"
          ]
        }
      ]
    },
    {
      "cell_type": "markdown",
      "source": [
        "Application 1"
      ],
      "metadata": {
        "id": "hfGhcp_KkDqn"
      }
    },
    {
      "cell_type": "markdown",
      "source": [
        "1. Create a Python program that displays the name of three students (Students 1,Student 2, and Student 3) and their term grades.\n",
        "2. Create a class name Person and attributes - std1, std2, std3, pre, mid, fin\n",
        "3. Compute the average of each term grade using Grade() method.\n",
        "4. Information about student's grades must be hidden from others"
      ],
      "metadata": {
        "id": "g7EcCMUkkLGZ"
      }
    },
    {
      "cell_type": "code",
      "source": [
        "class Person:\n",
        "  def __init__(self,std1,std2,std3,pre,mid,fin):\n",
        "    self.std1=Billy\n",
        "    self.std2=Jim\n",
        "    self.std3=Keshi\n",
        "\n",
        "class Grades(Person):\n",
        "  def"
      ],
      "metadata": {
        "id": "fMsauSNZkFGT"
      },
      "execution_count": null,
      "outputs": []
    },
    {
      "cell_type": "code",
      "source": [
        "class data:\n",
        "  def __init__(self,name,prelim,midterm,final):\n",
        "   self.name = name\n",
        "   self.prelim = prelim\n",
        "   self.midterm = midterm\n",
        "   self.final = final\n",
        "\n",
        "  def printname(self):\n",
        "    print(self.name)\n",
        "\n",
        "class std1(data):\n",
        "  def average(self):\n",
        "    return ((self.prelim + self.midterm + self.final)/3)\n",
        "\n",
        "\n",
        "name_input1 = str(input(\"Name: \"))\n",
        "prelims_input1 = float(input(\"Prelims:\"))\n",
        "midterms_input1 = float(input(\"Midterm:\"))\n",
        "finals_input1 = float(input(\"Finals:\"))\n",
        "\n",
        "student1 = std1(name_input1, prelims_input1, midterms_input1, finals_input1)\n",
        "print(\"\\n\")\n",
        "student1.printname()\n",
        "print(\"Average:\" , round(student1.average(),2), \"\\n\")\n",
        "\n",
        "\n",
        "\n",
        "class std2(data):\n",
        "  def average(self):\n",
        "    return ((self.prelim + self.midterm + self.final)/3)\n",
        "\n",
        "\n",
        "name_input2 = str(input(\"Name: \"))\n",
        "prelims_input2 = float(input(\"Prelims:\"))\n",
        "midterms_input2 = float(input(\"Midterm:\"))\n",
        "finals_input2 = float(input(\"Finals:\"))\n",
        "\n",
        "student2 = std2(name_input2, prelims_input2, midterms_input2, finals_input2)\n",
        "print(\"\\n\")\n",
        "student2.printname()\n",
        "print(\"Average:\" , round(student2.average(),2), \"\\n\")\n",
        "\n",
        "\n",
        "class std3(data):\n",
        "  def average(self):\n",
        "    return ((self.prelim + self.midterm + self.final)/3)\n",
        "\n",
        "\n",
        "name_input3 = str(input(\"Name: \"))\n",
        "prelims_input3 = float(input(\"Prelims:\"))\n",
        "midterms_input3 = float(input(\"Midterm:\"))\n",
        "finals_input3 = float(input(\"Finals:\"))\n",
        "\n",
        "student3 = std3(name_input3, prelims_input3, midterms_input3, finals_input3)\n",
        "print(\"\\n\")\n",
        "student3.printname()\n",
        "print(\"Average:\" , round(student3.average(),2), \"\\n\")"
      ],
      "metadata": {
        "colab": {
          "base_uri": "https://localhost:8080/"
        },
        "id": "awL2El3zum_M",
        "outputId": "e0af1947-03c3-4b56-b03d-00f541aadeec"
      },
      "execution_count": 4,
      "outputs": [
        {
          "output_type": "stream",
          "name": "stdout",
          "text": [
            "Name: Billy Pulido\n",
            "Prelims:99\n",
            "Midterm:98\n",
            "Finals:97\n",
            "\n",
            "\n",
            "Billy Pulido\n",
            "Average: 98.0 \n",
            "\n",
            "Name: Jannxer Pahati\n",
            "Prelims:100\n",
            "Midterm:95\n",
            "Finals:98\n",
            "\n",
            "\n",
            "Jannxer Pahati\n",
            "Average: 97.67 \n",
            "\n",
            "Name: John Paolo Pulido\n",
            "Prelims:98\n",
            "Midterm:94\n",
            "Finals:90\n",
            "\n",
            "\n",
            "John Paolo Pulido\n",
            "Average: 94.0 \n",
            "\n"
          ]
        }
      ]
    }
  ]
}