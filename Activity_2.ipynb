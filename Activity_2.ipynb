{
  "nbformat": 4,
  "nbformat_minor": 0,
  "metadata": {
    "colab": {
      "name": "Activity 2.ipynb",
      "provenance": [],
      "authorship_tag": "ABX9TyOoMNlIzBS4DLJpBF4pm7Km",
      "include_colab_link": true
    },
    "kernelspec": {
      "name": "python3",
      "display_name": "Python 3"
    },
    "language_info": {
      "name": "python"
    }
  },
  "cells": [
    {
      "cell_type": "markdown",
      "metadata": {
        "id": "view-in-github",
        "colab_type": "text"
      },
      "source": [
        "<a href=\"https://colab.research.google.com/github/B31521/OOP-1-2/blob/main/Activity_2.ipynb\" target=\"_parent\"><img src=\"https://colab.research.google.com/assets/colab-badge.svg\" alt=\"Open In Colab\"/></a>"
      ]
    },
    {
      "cell_type": "code",
      "execution_count": 41,
      "metadata": {
        "id": "LIY0zzRf0GNV",
        "colab": {
          "base_uri": "https://localhost:8080/"
        },
        "outputId": "4519ff66-da15-4c5f-f034-1b365bca7d9b"
      },
      "outputs": [
        {
          "output_type": "stream",
          "name": "stdout",
          "text": [
            "1257\n",
            "126\n"
          ]
        }
      ],
      "source": [
        "class Circle:\n",
        "  def __init__(self,circle):\n",
        "    self.circle=circle\n",
        "\n",
        "  def Area(self):\n",
        "    result=float(3.1415*(self.circle**2))\n",
        "    return result\n",
        "\n",
        "  def Perimeter(self):\n",
        "    result=float(2*3.1415*(self.circle))\n",
        "    return result\n",
        "\n",
        "\n",
        "measurement=Circle(20)\n",
        "\n",
        "print(round(measurement.Area()))\n",
        "print(round(measurement.Perimeter()))"
      ]
    }
  ]
}