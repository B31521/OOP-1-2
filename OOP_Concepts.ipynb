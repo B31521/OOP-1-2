{
  "nbformat": 4,
  "nbformat_minor": 0,
  "metadata": {
    "colab": {
      "name": "OOP Concepts.ipynb",
      "provenance": [],
      "authorship_tag": "ABX9TyOcmvT82xubtT5klAK8Kjh9",
      "include_colab_link": true
    },
    "kernelspec": {
      "name": "python3",
      "display_name": "Python 3"
    },
    "language_info": {
      "name": "python"
    }
  },
  "cells": [
    {
      "cell_type": "markdown",
      "metadata": {
        "id": "view-in-github",
        "colab_type": "text"
      },
      "source": [
        "<a href=\"https://colab.research.google.com/github/B31521/OOP-1-2/blob/main/OOP_Concepts.ipynb\" target=\"_parent\"><img src=\"https://colab.research.google.com/assets/colab-badge.svg\" alt=\"Open In Colab\"/></a>"
      ]
    },
    {
      "cell_type": "markdown",
      "source": [
        "# Python Classes and Objects"
      ],
      "metadata": {
        "id": "sSHIVP-rTCcs"
      }
    },
    {
      "cell_type": "markdown",
      "source": [
        "Create a class"
      ],
      "metadata": {
        "id": "YppYZz8CTIlD"
      }
    },
    {
      "cell_type": "code",
      "source": [
        "class MyClass:\n",
        "  pass"
      ],
      "metadata": {
        "id": "cRYh9i9lTHTm"
      },
      "execution_count": 2,
      "outputs": []
    },
    {
      "cell_type": "code",
      "source": [
        "class OOP1_2:\n",
        "  X=5\n",
        "  print(X)"
      ],
      "metadata": {
        "colab": {
          "base_uri": "https://localhost:8080/"
        },
        "id": "M4kINFmvTMMe",
        "outputId": "8f2a24b3-a2c6-4a98-d67e-61354e5365e4"
      },
      "execution_count": 3,
      "outputs": [
        {
          "output_type": "stream",
          "name": "stdout",
          "text": [
            "5\n"
          ]
        }
      ]
    },
    {
      "cell_type": "markdown",
      "source": [
        "Create Objects"
      ],
      "metadata": {
        "id": "q52WzfHihsVV"
      }
    },
    {
      "cell_type": "code",
      "source": [
        "class OOP1_2:\n",
        "  def __init__(self,name,age): #__init__(parameter)\n",
        "    self.name=name         #attributes\n",
        "    self.age=age\n",
        "\n",
        "  def identity(self):\n",
        "   print(self.name, self.age)\n",
        "\n",
        "person=OOP1_2(\"Billy\",19) #create objects \n",
        "\n",
        "print(person.name)\n",
        "print(person.age)\n",
        "print(person.identity)\n"
      ],
      "metadata": {
        "colab": {
          "base_uri": "https://localhost:8080/"
        },
        "id": "H7r3cUL8Tgb-",
        "outputId": "26f02df6-7fc9-4a05-9144-252119f2c17d"
      },
      "execution_count": 38,
      "outputs": [
        {
          "output_type": "stream",
          "name": "stdout",
          "text": [
            "Billy\n",
            "19\n",
            "<bound method OOP1_2.identity of <__main__.OOP1_2 object at 0x7fec19e87450>>\n"
          ]
        }
      ]
    },
    {
      "cell_type": "code",
      "source": [
        "#Modify the Object name\n",
        "\n",
        "person.name= \"Gilson\"\n",
        "print(person.name)\n",
        "print(person.age)"
      ],
      "metadata": {
        "colab": {
          "base_uri": "https://localhost:8080/"
        },
        "id": "PA5Xb367W364",
        "outputId": "9fda22c2-8fcb-4b8a-ad22-1d6cefcc3d4f"
      },
      "execution_count": 13,
      "outputs": [
        {
          "output_type": "stream",
          "name": "stdout",
          "text": [
            "Gilson\n",
            "19\n"
          ]
        }
      ]
    },
    {
      "cell_type": "code",
      "source": [
        "person.age=(20)\n",
        "print(person.name)\n",
        "print(person.age)"
      ],
      "metadata": {
        "colab": {
          "base_uri": "https://localhost:8080/"
        },
        "id": "vvvQvMglXNeq",
        "outputId": "b8ab3faa-feb5-41d9-8366-07b021c6d70e"
      },
      "execution_count": 15,
      "outputs": [
        {
          "output_type": "stream",
          "name": "stdout",
          "text": [
            "Gilson\n",
            "20\n"
          ]
        }
      ]
    },
    {
      "cell_type": "code",
      "source": [
        "#Delete the Object\n",
        "\n",
        "del person.name"
      ],
      "metadata": {
        "id": "DtVLv6M5Xeb8"
      },
      "execution_count": 21,
      "outputs": []
    },
    {
      "cell_type": "code",
      "source": [
        "print(person.age)\n",
        "print(person.name)\n"
      ],
      "metadata": {
        "colab": {
          "base_uri": "https://localhost:8080/",
          "height": 200
        },
        "id": "fkJJ4DXmXVP-",
        "outputId": "3bfe0cac-2f4a-40a6-a72d-a11ca83522cd"
      },
      "execution_count": 24,
      "outputs": [
        {
          "output_type": "stream",
          "name": "stdout",
          "text": [
            "20\n"
          ]
        },
        {
          "output_type": "error",
          "ename": "AttributeError",
          "evalue": "ignored",
          "traceback": [
            "\u001b[0;31m---------------------------------------------------------------------------\u001b[0m",
            "\u001b[0;31mAttributeError\u001b[0m                            Traceback (most recent call last)",
            "\u001b[0;32m<ipython-input-24-a40730572b38>\u001b[0m in \u001b[0;36m<module>\u001b[0;34m()\u001b[0m\n\u001b[1;32m      1\u001b[0m \u001b[0mprint\u001b[0m\u001b[0;34m(\u001b[0m\u001b[0mperson\u001b[0m\u001b[0;34m.\u001b[0m\u001b[0mage\u001b[0m\u001b[0;34m)\u001b[0m\u001b[0;34m\u001b[0m\u001b[0;34m\u001b[0m\u001b[0m\n\u001b[0;32m----> 2\u001b[0;31m \u001b[0mprint\u001b[0m\u001b[0;34m(\u001b[0m\u001b[0mperson\u001b[0m\u001b[0;34m.\u001b[0m\u001b[0mname\u001b[0m\u001b[0;34m)\u001b[0m\u001b[0;34m\u001b[0m\u001b[0;34m\u001b[0m\u001b[0m\n\u001b[0m",
            "\u001b[0;31mAttributeError\u001b[0m: 'OOP1_2' object has no attribute 'name'"
          ]
        }
      ]
    },
    {
      "cell_type": "markdown",
      "source": [
        "Application 1 -  Write a Python Program that computes the area of a square, and name it's class as Square; side as attributes"
      ],
      "metadata": {
        "id": "9ggDVYRKXnGR"
      }
    },
    {
      "cell_type": "code",
      "source": [
        "class Square:\n",
        "  def __init__(self,sides):\n",
        "    self.sides=sides\n",
        "\n",
        "  def area(self):\n",
        "    return self.sides*self.sides\n",
        "\n",
        "  def display(self):\n",
        "    print(\"The are of the square is:\",self.area())\n",
        "\n",
        "square=Square(4)\n",
        "\n",
        "print(square.sides)\n",
        "square.display()"
      ],
      "metadata": {
        "colab": {
          "base_uri": "https://localhost:8080/"
        },
        "id": "nRuRU5LoYJYE",
        "outputId": "3a9b9e2a-d0cb-43fd-eace-bb5ef64f7c17"
      },
      "execution_count": 25,
      "outputs": [
        {
          "output_type": "stream",
          "name": "stdout",
          "text": [
            "4\n",
            "The are of the square is: 16\n"
          ]
        }
      ]
    },
    {
      "cell_type": "markdown",
      "source": [
        "Application 2 - Write a Python program that displays your full name, age, course, school. Create a class named MyClass, and name, age, course, school as attributes"
      ],
      "metadata": {
        "id": "eLNYEV0TbnYW"
      }
    },
    {
      "cell_type": "code",
      "source": [
        "class MyClass:\n",
        "  def __init__(self,name,age,course,school):\n",
        "    self.name=name\n",
        "    self.age=age\n",
        "    self.course=course\n",
        "    self.school=school\n",
        "\n",
        "  def identity(self):\n",
        "    print(self.name,self.age,self.course,self.school)\n",
        "\n",
        "\n",
        "person=MyClass(\"Billy\",19,\"BSCpE\",\"Cavite State University - Main Campus\")\n",
        "\n",
        "print(person.name)\n",
        "print(person.age)\n",
        "print(person.course)\n",
        "print(person.school)\n",
        "print(person.identity)"
      ],
      "metadata": {
        "colab": {
          "base_uri": "https://localhost:8080/"
        },
        "id": "orsemrnEbyu-",
        "outputId": "67338b82-ed6a-4c36-da9b-7f015533ed30"
      },
      "execution_count": 39,
      "outputs": [
        {
          "output_type": "stream",
          "name": "stdout",
          "text": [
            "Billy\n",
            "19\n",
            "BSCpE\n",
            "Cavite State University - Main Campus\n",
            "<bound method MyClass.identity of <__main__.MyClass object at 0x7fec19ea1290>>\n"
          ]
        }
      ]
    }
  ]
}