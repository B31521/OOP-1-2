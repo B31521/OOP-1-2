{
  "nbformat": 4,
  "nbformat_minor": 0,
  "metadata": {
    "colab": {
      "name": "GUI Application.ipynb",
      "provenance": [],
      "authorship_tag": "ABX9TyPBvpx5g0uqQWhi1cYvmXUW",
      "include_colab_link": true
    },
    "kernelspec": {
      "name": "python3",
      "display_name": "Python 3"
    },
    "language_info": {
      "name": "python"
    }
  },
  "cells": [
    {
      "cell_type": "markdown",
      "metadata": {
        "id": "view-in-github",
        "colab_type": "text"
      },
      "source": [
        "<a href=\"https://colab.research.google.com/github/B31521/OOP-1-2/blob/main/GUI_Application.ipynb\" target=\"_parent\"><img src=\"https://colab.research.google.com/assets/colab-badge.svg\" alt=\"Open In Colab\"/></a>"
      ]
    },
    {
      "cell_type": "markdown",
      "source": [
        "#@title Students Grade in OOP\n",
        "\n",
        "Student_Name1=#@param{type:\"string\"}"
      ],
      "metadata": {
        "id": "J9IJysg1urdl"
      }
    },
    {
      "cell_type": "code",
      "execution_count": 17,
      "metadata": {
        "colab": {
          "base_uri": "https://localhost:8080/"
        },
        "id": "zaA8OOO-uhQz",
        "outputId": "969bcda2-a884-4cc4-93bf-06b0a488773a"
      },
      "outputs": [
        {
          "output_type": "stream",
          "name": "stdout",
          "text": [
            "The preliminary grade of student 1 is 90\n",
            "The midterm grade of student 1 is 94\n",
            "The final grade of student 1 is 93\n",
            "The semestral grade of student 1 is 92.33333333333333\n",
            "Student 1's gender is Male\n",
            "Student 1's birthdate is on 2002-06-03\n"
          ]
        }
      ],
      "source": [
        "#@title Students Grade in OOP\n",
        "\n",
        "Student_Name1=\"Enter the student name\"#@param{type:\"string\"}\n",
        "Prelim=90#@param{type:\"number\"}\n",
        "Midterm=94#@param{type:\"number\"}\n",
        "Final=93#@param{type:\"number\"}\n",
        "Semestral_Grade=((Prelim+Midterm+Final)/3)\n",
        "\n",
        "print(\"The preliminary grade of student 1 is\"+\" \"+str(Prelim))\n",
        "print(\"The midterm grade of student 1 is\"+\" \"+str(Midterm))\n",
        "print(\"The final grade of student 1 is\"+\" \"+str(Final))\n",
        "print(\"The semestral grade of student 1 is\"+\" \"+str(Semestral_Grade))\n",
        "\n",
        "\n",
        "#@title Gender\n",
        "Gender=\"Male\"#@param[\"Male\",\"Female\"]\n",
        "print(\"Student 1's gender is\"+\" \"+str(Gender))\n",
        "\n",
        "Birthdate=\"2002-06-03\"#@param{type:\"date\"}\n",
        "print(\"Student 1's birthdate is on\"+\" \"+str(Birthdate))"
      ]
    }
  ]
}